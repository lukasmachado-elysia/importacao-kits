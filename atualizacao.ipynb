{
 "cells": [
  {
   "cell_type": "code",
   "execution_count": 2,
   "metadata": {},
   "outputs": [],
   "source": [
    "import pandas as pd\n",
    "import numpy as np\n",
    "pd.set_option('display.float_format', lambda x: '%.3f' % x)"
   ]
  },
  {
   "cell_type": "code",
   "execution_count": null,
   "metadata": {},
   "outputs": [],
   "source": [
    "planilha = pd.ExcelFile('Precificação WEG-OIW. Outubro V4.xlsx')\n",
    "tabPrecificacao1 = pd.read_excel(planilha, 'precificação - OIW')\n",
    "tabPrecificacao2 = pd.read_excel(planilha, 'precificação - WEG')\n",
    "\n",
    "# cada aba em um dataframe\n",
    "precificacaoDF1 = tabPrecificacao1[['Geração','Número de módulos','Inversor: Qtde.',' Inversor: Potência AC (kW) ','KIT OIW']]\n",
    "precificacaoDF2 = tabPrecificacao2[['Geração','Número de módulos','Inversor: Qtde.',' Inversor: Potência AC (kW) ','KIT WEG (sem %)']]"
   ]
  },
  {
   "cell_type": "code",
   "execution_count": null,
   "metadata": {},
   "outputs": [],
   "source": [
    "# verificar em cada linha a potencia do inversor - de 0 até 10 = monofasico - acima de 10 = trifasico\n",
    "precificacaoDF1['Potencia Inversores'] = ''\n",
    "inversorPotenciaDF = precificacaoDF1[' Inversor: Potência AC (kW) '].str.split('kw', expand=True)\n",
    "inversorPotenciaDF[0] = pd.to_numeric(inversorPotenciaDF[0])\n",
    "inversorPotenciaDF.loc[inversorPotenciaDF[0] <= 10, 1] = 'Monofasico'\n",
    "inversorPotenciaDF.loc[inversorPotenciaDF[0] > 10, 1] = 'Trifasico'\n",
    "precificacaoDF1['Potencia Inversores'] = inversorPotenciaDF[1]\n",
    "\n",
    "# adicionando colunas e modificando colunas\n",
    "precificacaoDF1['Marca Inversores'] = 'Growatt'\n",
    "precificacaoDF1['potenciaModulos'] = 460\n",
    "precificacaoDF1['potenciaInversores'] = inversorPotenciaDF[0]\n",
    "precificacaoDF1\n",
    "precificacaoDF1.rename(columns={'Geração':'kwh_mes', 'Número de módulos':'quantidadeModulos', 'Inversor: Qtde.':'quantidadeInversores',\n",
    "       ' Inversor: Potência AC (kW) ':'modeloInversor1', 'KIT OIW':'preco_fibrocimento', 'Marca Inversores':'marcaInversores',\n",
    "       'Potencia Inversores':'ligacaoInversores'}, inplace=True)\n",
    "\n",
    "# reorganizando colunas\n",
    "precificacaoDF1 = precificacaoDF1[['potenciaModulos','kwh_mes','quantidadeModulos','quantidadeInversores','modeloInversor1','marcaInversores','ligacaoInversores','potenciaInversores','preco_fibrocimento']]"
   ]
  },
  {
   "cell_type": "code",
   "execution_count": null,
   "metadata": {},
   "outputs": [],
   "source": [
    "from distutils import errors\n",
    "\n",
    "\n",
    "precificacaoDF1[['kwh_mes','preco_fibrocimento']] = precificacaoDF1[['kwh_mes','preco_fibrocimento']].apply(pd.to_numeric, errors='ignore')\n",
    "precificacaoDF1.dtypes"
   ]
  },
  {
   "cell_type": "code",
   "execution_count": 82,
   "metadata": {},
   "outputs": [
    {
     "data": {
      "text/plain": [
       "'(460,688.3,10,1,\"5kw - growatt\",\"Growatt\",\"Monofasico\",5,13200.18)'"
      ]
     },
     "execution_count": 82,
     "metadata": {},
     "output_type": "execute_result"
    }
   ],
   "source": [
    "# formatando para comando sql\n",
    "\n",
    "listString = []\n",
    "listSQLCommand = []\n",
    "for row in precificacaoDF1.values:\n",
    "    listString = []\n",
    "    for column in row:\n",
    "        # verificando se eh numero\n",
    "        if isinstance(column, int) or isinstance(column, float):\n",
    "            listString.append(str(column))\n",
    "        else:\n",
    "            listString.append('\"' + str(column) + '\"')\n",
    "    listSQLCommand.append(','.join(listString))\n",
    "\n",
    "listSQLCommand = ['(' + x + ')' for x in listSQLCommand]\n",
    "listSQLCommand[0]    \n"
   ]
  },
  {
   "cell_type": "code",
   "execution_count": null,
   "metadata": {},
   "outputs": [],
   "source": []
  }
 ],
 "metadata": {
  "kernelspec": {
   "display_name": "Python 3.10.7 64-bit",
   "language": "python",
   "name": "python3"
  },
  "language_info": {
   "codemirror_mode": {
    "name": "ipython",
    "version": 3
   },
   "file_extension": ".py",
   "mimetype": "text/x-python",
   "name": "python",
   "nbconvert_exporter": "python",
   "pygments_lexer": "ipython3",
   "version": "3.10.7"
  },
  "orig_nbformat": 4,
  "vscode": {
   "interpreter": {
    "hash": "9ee9defd707f6d081fdcbf65a76d1a753d4fe552b5d7c258c2f2fa8deb871eb0"
   }
  }
 },
 "nbformat": 4,
 "nbformat_minor": 2
}
